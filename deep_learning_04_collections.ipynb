{
 "cells": [
  {
   "cell_type": "code",
   "execution_count": 1,
   "metadata": {},
   "outputs": [],
   "source": [
    "c=['a','b','c','d']"
   ]
  },
  {
   "cell_type": "code",
   "execution_count": 3,
   "metadata": {},
   "outputs": [
    {
     "name": "stdout",
     "output_type": "stream",
     "text": [
      "a\n",
      "b\n",
      "c\n",
      "d\n",
      "a - 0\n",
      "b - 1\n",
      "c - 2\n",
      "d - 3\n"
     ]
    }
   ],
   "source": [
    "\n",
    "for s in c:\n",
    "    print(s)\n",
    "\n",
    "# with index\n",
    "idx=0\n",
    "for s in c:\n",
    "    print(f'{s} - {idx}')\n",
    "    idx=idx+1"
   ]
  },
  {
   "cell_type": "code",
   "execution_count": 5,
   "metadata": {},
   "outputs": [
    {
     "name": "stdout",
     "output_type": "stream",
     "text": [
      "0:a\n",
      "1:b\n",
      "2:c\n",
      "3:d\n"
     ]
    }
   ],
   "source": [
    "for i,c in enumerate(c):\n",
    "    print(f'{i}:{c}')"
   ]
  },
  {
   "cell_type": "code",
   "execution_count": 7,
   "metadata": {},
   "outputs": [
    {
     "name": "stdout",
     "output_type": "stream",
     "text": [
      "['a', 'b', 'c', 'c']\n"
     ]
    }
   ],
   "source": [
    "c=[]\n",
    "c.append('a')\n",
    "c.append('b')\n",
    "c.append('c')\n",
    "c.append('c')\n",
    "print(c)"
   ]
  },
  {
   "cell_type": "code",
   "execution_count": 8,
   "metadata": {},
   "outputs": [
    {
     "name": "stdout",
     "output_type": "stream",
     "text": [
      "{'a', 'b', 'c'}\n"
     ]
    }
   ],
   "source": [
    "c=set()\n",
    "c.add('a')\n",
    "c.add('b')\n",
    "c.add('c')\n",
    "c.add('c')\n",
    "print(c)"
   ]
  },
  {
   "cell_type": "code",
   "execution_count": 11,
   "metadata": {},
   "outputs": [
    {
     "name": "stdout",
     "output_type": "stream",
     "text": [
      "['a0', 'a', 'b', 'c']\n",
      "['a0', 'a', 'c']\n",
      "['a', 'c']\n"
     ]
    }
   ],
   "source": [
    "c=['a','b','c']\n",
    "c.insert(0,'a0')\n",
    "print(c)\n",
    "c.remove('b')\n",
    "print(c)\n",
    "del c[0]\n",
    "print(c)"
   ]
  },
  {
   "cell_type": "code",
   "execution_count": 14,
   "metadata": {},
   "outputs": [
    {
     "name": "stdout",
     "output_type": "stream",
     "text": [
      "{'name': 'Jeff', 'address': '123 1st'}\n",
      "Jeff\n",
      "Name is defined\n",
      "age undefined\n"
     ]
    }
   ],
   "source": [
    "d={'name':\"Jeff\",'address':\"123 1st\"}\n",
    "print(d)\n",
    "print(d['name'])\n",
    "if 'name' in d:\n",
    "    print(\"Name is defined\")\n",
    "\n",
    "if 'age' in d:\n",
    "    print(\"age defined\")\n",
    "else:\n",
    "    print(\"age undefined\")"
   ]
  },
  {
   "cell_type": "code",
   "execution_count": 17,
   "metadata": {},
   "outputs": [
    {
     "name": "stdout",
     "output_type": "stream",
     "text": [
      "Key: dict_keys(['name', 'address'])\n",
      "Values: dict_values(['Jeff', '123 1st'])\n"
     ]
    }
   ],
   "source": [
    "d={'name':\"Jeff\",'address':\"123 1st\"}\n",
    "print(f\"Key: {d.keys()}\")\n",
    "print(f\"Values: {d.values()}\")"
   ]
  },
  {
   "cell_type": "code",
   "execution_count": 21,
   "metadata": {},
   "outputs": [
    {
     "name": "stdout",
     "output_type": "stream",
     "text": [
      "[{'name': 'AC Mehr', 'pets': ['ec', 'sha', 'mooz']}, {'name': 'John Smith', 'pets': ['rover']}, {'name': 'Jane Doe'}]\n",
      "AC Mehr:['ec', 'sha', 'mooz']\n",
      "John Smith:['rover']\n",
      "Jane Doe:no pets\n"
     ]
    }
   ],
   "source": [
    "customers=[\n",
    "    {\"name\":\"AC Mehr\", 'pets':[\"ec\",\"sha\",\"mooz\"]},\n",
    "    {\"name\":\"John Smith\", 'pets':[\"rover\"]},\n",
    "    {\"name\":\"Jane Doe\"},\n",
    "]\n",
    "print(customers)\n",
    "for customer in customers:\n",
    "    print(f\"{customer['name']}:{customer.get('pets','no pets')}\")"
   ]
  },
  {
   "cell_type": "code",
   "execution_count": 26,
   "metadata": {},
   "outputs": [
    {
     "name": "stdout",
     "output_type": "stream",
     "text": [
      "<zip object at 0x0000020790D22780>\n"
     ]
    }
   ],
   "source": [
    "a=[1,2,3,4,5]\n",
    "b=[5,4,3,2,1]\n",
    "print(zip(a,b))\n"
   ]
  },
  {
   "cell_type": "code",
   "execution_count": 23,
   "metadata": {},
   "outputs": [
    {
     "name": "stdout",
     "output_type": "stream",
     "text": [
      "[(1, 5), (2, 4), (3, 3), (4, 2), (5, 1)]\n"
     ]
    }
   ],
   "source": [
    "a=[1,2,3,4,5]\n",
    "b=[5,4,3,2,1]\n",
    "print(list(zip(a,b)))"
   ]
  },
  {
   "cell_type": "code",
   "execution_count": 27,
   "metadata": {},
   "outputs": [
    {
     "name": "stdout",
     "output_type": "stream",
     "text": [
      "1: 5\n",
      "2: 4\n",
      "3: 3\n",
      "4: 2\n",
      "5: 1\n"
     ]
    }
   ],
   "source": [
    "a=[1,2,3,4,5]\n",
    "b=[5,4,3,2,1]\n",
    "for x,y in zip(a,b):\n",
    "    print(f'{x}: {y}')"
   ]
  },
  {
   "cell_type": "code",
   "execution_count": 28,
   "metadata": {},
   "outputs": [
    {
     "data": {
      "text/plain": [
       "[(0, 'one'), (1, 'two'), (2, 'three'), (3, 'four'), (4, 'five')]"
      ]
     },
     "execution_count": 28,
     "metadata": {},
     "output_type": "execute_result"
    }
   ],
   "source": [
    "a=['one','two', 'three','four','five']\n",
    "list(enumerate(a))"
   ]
  },
  {
   "cell_type": "code",
   "execution_count": 30,
   "metadata": {},
   "outputs": [
    {
     "name": "stdout",
     "output_type": "stream",
     "text": [
      "Index 0 holds \"one\"\n",
      "Index 1 holds \"two\"\n",
      "Index 2 holds \"three\"\n",
      "Index 3 holds \"four\"\n",
      "Index 4 holds \"five\"\n"
     ]
    }
   ],
   "source": [
    "a=['one','two', 'three','four','five']\n",
    "for idx, item in enumerate(a):\n",
    "    print(f'Index {idx} holds \"{item}\"')\n",
    "    "
   ]
  },
  {
   "cell_type": "code",
   "execution_count": 32,
   "metadata": {},
   "outputs": [
    {
     "name": "stdout",
     "output_type": "stream",
     "text": [
      "[0, 10, 20, 30, 40, 50, 60, 70, 80, 90]\n"
     ]
    }
   ],
   "source": [
    "lst=[x*10 for x in range(10)]\n",
    "print(lst)"
   ]
  },
  {
   "cell_type": "code",
   "execution_count": 33,
   "metadata": {},
   "outputs": [
    {
     "name": "stdout",
     "output_type": "stream",
     "text": [
      "{'col-zero': 0, 'col-one': 1, 'col-two': 2, 'col-three': 3}\n"
     ]
    }
   ],
   "source": [
    "text=['col-zero','col-one','col-two','col-three']\n",
    "lookup={key:value for (value,key) in enumerate(text)}\n",
    "print(lookup)"
   ]
  },
  {
   "cell_type": "code",
   "execution_count": 34,
   "metadata": {},
   "outputs": [
    {
     "name": "stdout",
     "output_type": "stream",
     "text": [
      "The index of \"col-two\" is 2\n"
     ]
    }
   ],
   "source": [
    "print(f'The index of \"col-two\" is {lookup[\"col-two\"]}')"
   ]
  }
 ],
 "metadata": {
  "kernelspec": {
   "display_name": "tensorflow-gpu",
   "language": "python",
   "name": "python3"
  },
  "language_info": {
   "codemirror_mode": {
    "name": "ipython",
    "version": 3
   },
   "file_extension": ".py",
   "mimetype": "text/x-python",
   "name": "python",
   "nbconvert_exporter": "python",
   "pygments_lexer": "ipython3",
   "version": "3.9.18"
  }
 },
 "nbformat": 4,
 "nbformat_minor": 2
}
