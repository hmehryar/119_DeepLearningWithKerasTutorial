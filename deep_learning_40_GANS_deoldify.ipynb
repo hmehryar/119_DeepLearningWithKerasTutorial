{
 "cells": [
  {
   "cell_type": "code",
   "execution_count": null,
   "metadata": {},
   "outputs": [],
   "source": [
    "# HIDE OUTPUT\n",
    "!git clone https://github.com/jantic/DeOldify.git DeOldify\n",
    "%cd DeOldify "
   ]
  },
  {
   "cell_type": "code",
   "execution_count": null,
   "metadata": {},
   "outputs": [],
   "source": [
    "# HIDE OUTPUT\n",
    "!pip install -r colab_requirements.txt"
   ]
  },
  {
   "cell_type": "code",
   "execution_count": null,
   "metadata": {},
   "outputs": [],
   "source": [
    "# HIDE OUTPUT\n",
    "!mkdir './models/'\n",
    "CMD = \"wget https://data.deepai.org/deoldify/ColorizeArtistic_gen.pth\"\\\n",
    "  \" -O ./models/ColorizeArtistic_gen.pth\"\n",
    "!{CMD}"
   ]
  },
  {
   "cell_type": "code",
   "execution_count": null,
   "metadata": {},
   "outputs": [],
   "source": [
    "# HIDE OUTPUT\n",
    "CMD = \"wget https://media.githubusercontent.com/media/jantic/\"\\\n",
    "  \"DeOldify/master/resource_images/watermark.png \"\\\n",
    "  \"-O /content/DeOldify/resource_images/watermark.png\"\n",
    "!{CMD}"
   ]
  },
  {
   "cell_type": "code",
   "execution_count": null,
   "metadata": {},
   "outputs": [],
   "source": [
    "import sys\n",
    "\n",
    "#NOTE:  This must be the first call in order to work properly!\n",
    "from deoldify import device\n",
    "from deoldify.device_id import DeviceId\n",
    "#choices:  CPU, GPU0...GPU7\n",
    "device.set(device=DeviceId.GPU0)\n",
    "\n",
    "import torch\n",
    "\n",
    "if not torch.cuda.is_available():\n",
    "  print('GPU not available.')\n",
    "else:\n",
    "  print('Using GPU.')"
   ]
  },
  {
   "cell_type": "code",
   "execution_count": null,
   "metadata": {},
   "outputs": [],
   "source": [
    "# HIDE OUTPUT\n",
    "import fastai\n",
    "from deoldify.visualize import *\n",
    "import warnings\n",
    "from urllib.parse import urlparse\n",
    "import os\n",
    "\n",
    "warnings.filterwarnings(\"ignore\", category=UserWarning, \n",
    "          message=\".*?Your .*? set is empty.*?\")\n",
    "\n",
    "URL = 'https://raw.githubusercontent.com/jeffheaton/'\\\n",
    "  't81_558_deep_learning/master/photos/scooby_family.jpg' \n",
    "\n",
    "!wget {URL}\n",
    "\n",
    "a = urlparse(URL)\n",
    "before_file = os.path.basename(a.path)\n",
    "\n",
    "RENDER_FACTOR = 35  \n",
    "WATERMARK = False\n",
    "\n",
    "colorizer = get_image_colorizer(artistic=True)\n",
    "\n",
    "after_image = colorizer.get_transformed_image(\n",
    "    before_file, render_factor=RENDER_FACTOR, \n",
    "    watermarked=WATERMARK)\n",
    "#print(\"Starting image:\")"
   ]
  },
  {
   "cell_type": "code",
   "execution_count": null,
   "metadata": {},
   "outputs": [],
   "source": [
    "from IPython import display\n",
    "display.Image(URL)"
   ]
  },
  {
   "cell_type": "code",
   "execution_count": null,
   "metadata": {},
   "outputs": [],
   "source": [
    "after_image\n"
   ]
  }
 ],
 "metadata": {
  "language_info": {
   "name": "python"
  }
 },
 "nbformat": 4,
 "nbformat_minor": 2
}
