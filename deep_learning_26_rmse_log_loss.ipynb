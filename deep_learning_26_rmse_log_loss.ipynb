{
 "cells": [
  {
   "cell_type": "code",
   "execution_count": 1,
   "metadata": {},
   "outputs": [
    {
     "name": "stdout",
     "output_type": "stream",
     "text": [
      "Note: not using Google CoLab\n"
     ]
    }
   ],
   "source": [
    "try:\n",
    "    %tensorflow_version 2.x\n",
    "    COLAB = True\n",
    "    print(\"Note: using Google CoLab\")\n",
    "except:\n",
    "    print(\"Note: not using Google CoLab\")\n",
    "    COLAB = False"
   ]
  },
  {
   "cell_type": "code",
   "execution_count": 2,
   "metadata": {},
   "outputs": [
    {
     "name": "stdout",
     "output_type": "stream",
     "text": [
      "Score (MSE): 0.14200000000000007\n",
      "Score (RMSE): 0.37682887362833556\n"
     ]
    }
   ],
   "source": [
    "from sklearn import metrics\n",
    "import numpy as np\n",
    "\n",
    "predicted = [1.1,1.9,3.4,4.2,4.3]\n",
    "expected = [1,2,3,4,5]\n",
    "\n",
    "score_mse = metrics.mean_squared_error(predicted,expected)\n",
    "score_rmse = np.sqrt(score_mse)\n",
    "print(\"Score (MSE): {}\".format(score_mse))\n",
    "print(\"Score (RMSE): {}\".format(score_rmse))"
   ]
  },
  {
   "cell_type": "code",
   "execution_count": 3,
   "metadata": {},
   "outputs": [
    {
     "name": "stdout",
     "output_type": "stream",
     "text": [
      "Score (MSE): 0.14200000000000007\n",
      "Score (RMSE): 0.37682887362833556\n"
     ]
    }
   ],
   "source": [
    "score_mse = ((predicted[0]-expected[0])**2 + (predicted[1]-expected[1])**2 \n",
    "+ (predicted[2]-expected[2])**2 + (predicted[3]-expected[3])**2\n",
    "+ (predicted[4]-expected[4])**2)/len(predicted)\n",
    "score_rmse = np.sqrt(score_mse)\n",
    "    \n",
    "print(\"Score (MSE): {}\".format(score_mse))\n",
    "print(\"Score (RMSE): {}\".format(score_rmse))"
   ]
  },
  {
   "cell_type": "code",
   "execution_count": 4,
   "metadata": {},
   "outputs": [
    {
     "name": "stdout",
     "output_type": "stream",
     "text": [
      "0.06678801305495843\n"
     ]
    }
   ],
   "source": [
    "from sklearn import metrics\n",
    "\n",
    "expected = [1,1,0,0,0]\n",
    "predicted = [0.9,0.99,0.1,0.05,0.06]\n",
    "\n",
    "print(metrics.log_loss(expected,predicted))"
   ]
  },
  {
   "cell_type": "code",
   "execution_count": 5,
   "metadata": {},
   "outputs": [
    {
     "name": "stdout",
     "output_type": "stream",
     "text": [
      "Score Logloss 0.06678801305495843\n"
     ]
    }
   ],
   "source": [
    "import numpy as np\n",
    "\n",
    "score_logloss = (np.log(1.0-np.abs(expected[0]-predicted[0]))+\\\n",
    "np.log(1.0-np.abs(expected[1]-predicted[1]))+\\\n",
    "np.log(1.0-np.abs(expected[2]-predicted[2]))+\\\n",
    "np.log(1.0-np.abs(expected[3]-predicted[3]))+\\\n",
    "np.log(1.0-np.abs(expected[4]-predicted[4])))\\\n",
    "*(-1/len(predicted))\n",
    "\n",
    "print(f'Score Logloss {score_logloss}')"
   ]
  }
 ],
 "metadata": {
  "kernelspec": {
   "display_name": "base",
   "language": "python",
   "name": "python3"
  },
  "language_info": {
   "codemirror_mode": {
    "name": "ipython",
    "version": 3
   },
   "file_extension": ".py",
   "mimetype": "text/x-python",
   "name": "python",
   "nbconvert_exporter": "python",
   "pygments_lexer": "ipython3",
   "version": "3.11.5"
  }
 },
 "nbformat": 4,
 "nbformat_minor": 2
}
