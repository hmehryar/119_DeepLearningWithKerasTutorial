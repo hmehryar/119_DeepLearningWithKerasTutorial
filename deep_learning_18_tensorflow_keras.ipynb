{
 "cells": [
  {
   "cell_type": "code",
   "execution_count": 1,
   "metadata": {},
   "outputs": [
    {
     "name": "stdout",
     "output_type": "stream",
     "text": [
      "Tensor Flow Version: 2.16.1\n"
     ]
    }
   ],
   "source": [
    "import tensorflow as tf\n",
    "print(f\"Tensor Flow Version: {tf.__version__}\")"
   ]
  },
  {
   "cell_type": "code",
   "execution_count": 2,
   "metadata": {},
   "outputs": [
    {
     "data": {
      "image/jpeg": "[encoded data removed]",
      "text/plain": [
       "<IPython.core.display.Image object>"
      ]
     },
     "metadata": {},
     "output_type": "display_data"
    }
   ],
   "source": [
    "import tensorflow as tf\n",
    "import numpy as np\n",
    "\n",
    "import PIL.Image\n",
    "from io import BytesIO\n",
    "from IPython.display import Image,display\n",
    "\n",
    "def DisplayFractal (a,fmt='jpeg'):\n",
    "    \"\"\"Display an array of iteration counts as a \n",
    "    colorful picture of a fractal.\"\"\"\n",
    "    a_cyclic=(6.28*a/20.0).reshape(list(a.shape)+[1])\n",
    "    img=np.concatenate([10+20*np.cos(a_cyclic),\n",
    "                        30+50*np.sin(a_cyclic),\n",
    "                        155-80*np.cos(a_cyclic)],2)\n",
    "    img[a==a.max()]=0\n",
    "    a=img\n",
    "    a=np.uint8(np.clip(a,0,255))\n",
    "    f=BytesIO()\n",
    "    PIL.Image.fromarray(a).save(f,fmt)\n",
    "    display(Image(data=f.getvalue()))\n",
    "\n",
    "Y,X=np.mgrid[-1.3:1.3:0.005,-2:1:0.005]\n",
    "Z=X+1j*Y\n",
    "\n",
    "xs=tf.constant(Z.astype(np.complex64))\n",
    "zs=tf.Variable(xs)\n",
    "ns=tf.Variable(tf.zeros_like(xs,tf.float32))\n",
    "\n",
    "for i in range (200):\n",
    "    zs_=zs*zs+xs\n",
    "    not_diverged=tf.abs(zs_)<4\n",
    "\n",
    "    zs.assign(zs_),\n",
    "    ns.assign_add(tf.cast(not_diverged,tf.float32))\n",
    "\n",
    "DisplayFractal(ns.numpy())\n",
    "\n"
   ]
  },
  {
   "cell_type": "code",
   "execution_count": 3,
   "metadata": {},
   "outputs": [
    {
     "name": "stdout",
     "output_type": "stream",
     "text": [
      "tf.Tensor([[12.]], shape=(1, 1), dtype=float32)\n",
      "12.0\n"
     ]
    }
   ],
   "source": [
    "import tensorflow as tf\n",
    "matrix1=tf.constant([[3.,3.]])\n",
    "\n",
    "matrix2=tf.constant([[2.],[2.]])\n",
    "\n",
    "product=tf.matmul(matrix1,matrix2)\n",
    "\n",
    "print(product)\n",
    "print(float(product))"
   ]
  },
  {
   "cell_type": "code",
   "execution_count": 4,
   "metadata": {},
   "outputs": [
    {
     "name": "stdout",
     "output_type": "stream",
     "text": [
      "tf.Tensor([-2. -1.], shape=(2,), dtype=float32)\n",
      "[-2. -1.]\n"
     ]
    }
   ],
   "source": [
    "import tensorflow as tf\n",
    "x=tf.Variable([1.0,2.0])\n",
    "a=tf.constant([3.0,3.0])\n",
    "\n",
    "sub=tf.subtract(x,a)\n",
    "print(sub)\n",
    "print(sub.numpy())"
   ]
  },
  {
   "cell_type": "code",
   "execution_count": 5,
   "metadata": {},
   "outputs": [
    {
     "data": {
      "text/plain": [
       "<tf.Variable 'UnreadVariable' shape=(2,) dtype=float32, numpy=array([4., 6.], dtype=float32)>"
      ]
     },
     "execution_count": 5,
     "metadata": {},
     "output_type": "execute_result"
    }
   ],
   "source": [
    "x.assign([4.0,6.0])"
   ]
  },
  {
   "cell_type": "code",
   "execution_count": 6,
   "metadata": {},
   "outputs": [
    {
     "name": "stdout",
     "output_type": "stream",
     "text": [
      "tf.Tensor([1. 3.], shape=(2,), dtype=float32)\n",
      "[1. 3.]\n"
     ]
    }
   ],
   "source": [
    "sub=tf.subtract(x,a)\n",
    "print(sub)\n",
    "print(sub.numpy())"
   ]
  },
  {
   "cell_type": "code",
   "execution_count": 7,
   "metadata": {},
   "outputs": [],
   "source": [
    "from keras.layers import Dense, Activation\n",
    "import pandas as pd\n",
    "import io\n",
    "import os\n",
    "import requests\n",
    "import numpy as np\n",
    "from sklearn import metrics\n",
    "\n",
    "df=pd.read_csv(\"https://data.heatonresearch.com/data/t81-558/auto-mpg.csv\",\n",
    "               na_values=['NA','?'])\n",
    "\n",
    "cars=df['name']\n",
    "\n",
    "df['horsepower']=df['horsepower'].fillna(df['horsepower'].median())\n",
    "\n",
    "x=df[[ 'cylinders', 'displacement', 'horsepower', 'weight', 'acceleration', 'year', 'origin']].values\n",
    "y=df['mpg'].values\n",
    "\n"
   ]
  },
  {
   "cell_type": "code",
   "execution_count": 8,
   "metadata": {},
   "outputs": [],
   "source": [
    "import keras.models as models"
   ]
  },
  {
   "cell_type": "code",
   "execution_count": 16,
   "metadata": {},
   "outputs": [
    {
     "name": "stdout",
     "output_type": "stream",
     "text": [
      "Epoch 1/100\n"
     ]
    },
    {
     "name": "stderr",
     "output_type": "stream",
     "text": [
      "C:\\Users\\HP\\AppData\\Roaming\\Python\\Python311\\site-packages\\keras\\src\\layers\\core\\dense.py:87: UserWarning: Do not pass an `input_shape`/`input_dim` argument to a layer. When using Sequential models, prefer using an `Input(shape)` object as the first layer in the model instead.\n",
      "  super().__init__(activity_regularizer=activity_regularizer, **kwargs)\n"
     ]
    },
    {
     "name": "stdout",
     "output_type": "stream",
     "text": [
      "13/13 - 1s - 60ms/step - loss: 32621.4043\n",
      "Epoch 2/100\n",
      "13/13 - 0s - 3ms/step - loss: 1547.5449\n",
      "Epoch 3/100\n",
      "13/13 - 0s - 3ms/step - loss: 1052.9381\n",
      "Epoch 4/100\n",
      "13/13 - 0s - 3ms/step - loss: 378.6537\n",
      "Epoch 5/100\n",
      "13/13 - 0s - 3ms/step - loss: 258.0913\n",
      "Epoch 6/100\n",
      "13/13 - 0s - 3ms/step - loss: 216.9314\n",
      "Epoch 7/100\n",
      "13/13 - 0s - 3ms/step - loss: 202.3978\n",
      "Epoch 8/100\n",
      "13/13 - 0s - 3ms/step - loss: 196.4886\n",
      "Epoch 9/100\n",
      "13/13 - 0s - 4ms/step - loss: 196.6173\n",
      "Epoch 10/100\n",
      "13/13 - 0s - 3ms/step - loss: 191.2020\n",
      "Epoch 11/100\n",
      "13/13 - 0s - 4ms/step - loss: 189.9096\n",
      "Epoch 12/100\n",
      "13/13 - 0s - 4ms/step - loss: 187.0247\n",
      "Epoch 13/100\n",
      "13/13 - 0s - 4ms/step - loss: 184.4581\n",
      "Epoch 14/100\n",
      "13/13 - 0s - 4ms/step - loss: 183.7407\n",
      "Epoch 15/100\n",
      "13/13 - 0s - 4ms/step - loss: 179.7477\n",
      "Epoch 16/100\n",
      "13/13 - 0s - 4ms/step - loss: 176.2159\n",
      "Epoch 17/100\n",
      "13/13 - 0s - 4ms/step - loss: 174.3579\n",
      "Epoch 18/100\n",
      "13/13 - 0s - 4ms/step - loss: 171.1935\n",
      "Epoch 19/100\n",
      "13/13 - 0s - 5ms/step - loss: 169.7130\n",
      "Epoch 20/100\n",
      "13/13 - 0s - 4ms/step - loss: 165.7716\n",
      "Epoch 21/100\n",
      "13/13 - 0s - 5ms/step - loss: 163.2106\n",
      "Epoch 22/100\n",
      "13/13 - 0s - 5ms/step - loss: 161.2110\n",
      "Epoch 23/100\n",
      "13/13 - 0s - 5ms/step - loss: 158.5890\n",
      "Epoch 24/100\n",
      "13/13 - 0s - 5ms/step - loss: 155.5925\n",
      "Epoch 25/100\n",
      "13/13 - 0s - 5ms/step - loss: 151.9288\n",
      "Epoch 26/100\n",
      "13/13 - 0s - 5ms/step - loss: 149.0862\n",
      "Epoch 27/100\n",
      "13/13 - 0s - 6ms/step - loss: 146.1363\n",
      "Epoch 28/100\n",
      "13/13 - 0s - 6ms/step - loss: 144.7467\n",
      "Epoch 29/100\n",
      "13/13 - 0s - 5ms/step - loss: 142.9736\n",
      "Epoch 30/100\n",
      "13/13 - 0s - 6ms/step - loss: 138.8101\n",
      "Epoch 31/100\n",
      "13/13 - 0s - 6ms/step - loss: 135.7119\n",
      "Epoch 32/100\n",
      "13/13 - 0s - 6ms/step - loss: 133.4191\n",
      "Epoch 33/100\n",
      "13/13 - 0s - 6ms/step - loss: 130.4416\n",
      "Epoch 34/100\n",
      "13/13 - 0s - 5ms/step - loss: 127.9061\n",
      "Epoch 35/100\n",
      "13/13 - 0s - 5ms/step - loss: 125.5096\n",
      "Epoch 36/100\n",
      "13/13 - 0s - 5ms/step - loss: 123.0913\n",
      "Epoch 37/100\n",
      "13/13 - 0s - 5ms/step - loss: 121.5181\n",
      "Epoch 38/100\n",
      "13/13 - 0s - 5ms/step - loss: 119.7165\n",
      "Epoch 39/100\n",
      "13/13 - 0s - 5ms/step - loss: 116.1177\n",
      "Epoch 40/100\n",
      "13/13 - 0s - 5ms/step - loss: 114.6679\n",
      "Epoch 41/100\n",
      "13/13 - 0s - 4ms/step - loss: 112.6791\n",
      "Epoch 42/100\n",
      "13/13 - 0s - 4ms/step - loss: 110.9501\n",
      "Epoch 43/100\n",
      "13/13 - 0s - 4ms/step - loss: 108.3380\n",
      "Epoch 44/100\n",
      "13/13 - 0s - 4ms/step - loss: 105.3818\n",
      "Epoch 45/100\n",
      "13/13 - 0s - 4ms/step - loss: 103.2642\n",
      "Epoch 46/100\n",
      "13/13 - 0s - 4ms/step - loss: 101.6251\n",
      "Epoch 47/100\n",
      "13/13 - 0s - 4ms/step - loss: 99.5539\n",
      "Epoch 48/100\n",
      "13/13 - 0s - 4ms/step - loss: 97.6372\n",
      "Epoch 49/100\n",
      "13/13 - 0s - 4ms/step - loss: 95.7920\n",
      "Epoch 50/100\n",
      "13/13 - 0s - 4ms/step - loss: 93.6536\n",
      "Epoch 51/100\n",
      "13/13 - 0s - 4ms/step - loss: 93.3771\n",
      "Epoch 52/100\n",
      "13/13 - 0s - 4ms/step - loss: 91.1833\n",
      "Epoch 53/100\n",
      "13/13 - 0s - 4ms/step - loss: 88.7244\n",
      "Epoch 54/100\n",
      "13/13 - 0s - 4ms/step - loss: 88.7210\n",
      "Epoch 55/100\n",
      "13/13 - 0s - 4ms/step - loss: 85.5051\n",
      "Epoch 56/100\n",
      "13/13 - 0s - 5ms/step - loss: 85.5452\n",
      "Epoch 57/100\n",
      "13/13 - 0s - 6ms/step - loss: 83.4513\n",
      "Epoch 58/100\n",
      "13/13 - 0s - 5ms/step - loss: 81.5119\n",
      "Epoch 59/100\n",
      "13/13 - 0s - 4ms/step - loss: 80.3883\n",
      "Epoch 60/100\n",
      "13/13 - 0s - 4ms/step - loss: 79.3282\n",
      "Epoch 61/100\n",
      "13/13 - 0s - 4ms/step - loss: 79.2001\n",
      "Epoch 62/100\n",
      "13/13 - 0s - 4ms/step - loss: 77.1978\n",
      "Epoch 63/100\n",
      "13/13 - 0s - 3ms/step - loss: 75.1593\n",
      "Epoch 64/100\n",
      "13/13 - 0s - 3ms/step - loss: 73.7458\n",
      "Epoch 65/100\n",
      "13/13 - 0s - 3ms/step - loss: 72.6306\n",
      "Epoch 66/100\n",
      "13/13 - 0s - 3ms/step - loss: 71.9294\n",
      "Epoch 67/100\n",
      "13/13 - 0s - 3ms/step - loss: 70.4595\n",
      "Epoch 68/100\n",
      "13/13 - 0s - 3ms/step - loss: 69.7377\n",
      "Epoch 69/100\n",
      "13/13 - 0s - 3ms/step - loss: 68.5141\n",
      "Epoch 70/100\n",
      "13/13 - 0s - 3ms/step - loss: 68.6857\n",
      "Epoch 71/100\n",
      "13/13 - 0s - 4ms/step - loss: 67.5458\n",
      "Epoch 72/100\n",
      "13/13 - 0s - 4ms/step - loss: 67.3400\n",
      "Epoch 73/100\n",
      "13/13 - 0s - 4ms/step - loss: 65.2393\n",
      "Epoch 74/100\n",
      "13/13 - 0s - 4ms/step - loss: 64.5024\n",
      "Epoch 75/100\n",
      "13/13 - 0s - 4ms/step - loss: 63.6922\n",
      "Epoch 76/100\n",
      "13/13 - 0s - 4ms/step - loss: 64.0500\n",
      "Epoch 77/100\n",
      "13/13 - 0s - 4ms/step - loss: 62.0932\n",
      "Epoch 78/100\n",
      "13/13 - 0s - 4ms/step - loss: 61.3055\n",
      "Epoch 79/100\n",
      "13/13 - 0s - 4ms/step - loss: 61.9381\n",
      "Epoch 80/100\n",
      "13/13 - 0s - 4ms/step - loss: 60.1766\n",
      "Epoch 81/100\n",
      "13/13 - 0s - 4ms/step - loss: 59.1206\n",
      "Epoch 82/100\n",
      "13/13 - 0s - 4ms/step - loss: 58.9158\n",
      "Epoch 83/100\n",
      "13/13 - 0s - 4ms/step - loss: 57.8294\n",
      "Epoch 84/100\n",
      "13/13 - 0s - 4ms/step - loss: 58.4176\n",
      "Epoch 85/100\n",
      "13/13 - 0s - 4ms/step - loss: 57.1874\n",
      "Epoch 86/100\n",
      "13/13 - 0s - 4ms/step - loss: 56.4954\n",
      "Epoch 87/100\n",
      "13/13 - 0s - 4ms/step - loss: 56.2607\n",
      "Epoch 88/100\n",
      "13/13 - 0s - 4ms/step - loss: 55.3003\n",
      "Epoch 89/100\n",
      "13/13 - 0s - 4ms/step - loss: 55.2594\n",
      "Epoch 90/100\n",
      "13/13 - 0s - 4ms/step - loss: 54.5909\n",
      "Epoch 91/100\n",
      "13/13 - 0s - 4ms/step - loss: 54.9115\n",
      "Epoch 92/100\n",
      "13/13 - 0s - 4ms/step - loss: 53.9635\n",
      "Epoch 93/100\n",
      "13/13 - 0s - 4ms/step - loss: 53.3991\n",
      "Epoch 94/100\n",
      "13/13 - 0s - 5ms/step - loss: 53.3193\n",
      "Epoch 95/100\n",
      "13/13 - 0s - 3ms/step - loss: 52.6754\n",
      "Epoch 96/100\n",
      "13/13 - 0s - 4ms/step - loss: 52.4960\n",
      "Epoch 97/100\n",
      "13/13 - 0s - 5ms/step - loss: 53.7463\n",
      "Epoch 98/100\n",
      "13/13 - 0s - 5ms/step - loss: 51.4014\n",
      "Epoch 99/100\n",
      "13/13 - 0s - 6ms/step - loss: 51.0553\n",
      "Epoch 100/100\n",
      "13/13 - 0s - 5ms/step - loss: 50.9827\n"
     ]
    },
    {
     "data": {
      "text/plain": [
       "<keras.src.callbacks.history.History at 0x1f35689f690>"
      ]
     },
     "execution_count": 16,
     "metadata": {},
     "output_type": "execute_result"
    }
   ],
   "source": [
    "# Build the neural network\n",
    "model = models.Sequential()\n",
    "model.add(Dense(25, input_dim=x.shape[1], activation='relu')) # Hidden 1\n",
    "model.add(Dense(10, activation='relu')) # Hidden 2\n",
    "model.add(Dense(1)) # Output\n",
    "model.compile(loss='mean_squared_error', optimizer='adam')\n",
    "model.fit(x,y,verbose=2,epochs=100)"
   ]
  },
  {
   "cell_type": "code",
   "execution_count": 17,
   "metadata": {},
   "outputs": [
    {
     "name": "stdout",
     "output_type": "stream",
     "text": [
      "\u001b[1m13/13\u001b[0m \u001b[32m━━━━━━━━━━━━━━━━━━━━\u001b[0m\u001b[37m\u001b[0m \u001b[1m0s\u001b[0m 7ms/step\n",
      "Shape: (398, 1)\n",
      "[[12.648547]\n",
      " [14.875567]\n",
      " [14.94723 ]\n",
      " [17.351963]\n",
      " [14.980891]\n",
      " [13.002566]\n",
      " [14.015742]\n",
      " [14.640193]\n",
      " [15.63853 ]\n",
      " [14.357509]]\n"
     ]
    }
   ],
   "source": [
    "pred = model.predict(x)\n",
    "print(f\"Shape: {pred.shape}\")\n",
    "print(pred[0:10])"
   ]
  },
  {
   "cell_type": "code",
   "execution_count": 18,
   "metadata": {},
   "outputs": [
    {
     "name": "stdout",
     "output_type": "stream",
     "text": [
      "Final score (RMSE): 7.108330260839657\n"
     ]
    }
   ],
   "source": [
    "# Measure RMSE error.  RMSE is common for regression.\n",
    "score = np.sqrt(metrics.mean_squared_error(pred,y))\n",
    "print(f\"Final score (RMSE): {score}\")"
   ]
  },
  {
   "cell_type": "code",
   "execution_count": 19,
   "metadata": {},
   "outputs": [
    {
     "name": "stdout",
     "output_type": "stream",
     "text": [
      "1. Car name: chevrolet chevelle malibu, MPG: 18.0, predicted MPG: [12.648547]\n",
      "2. Car name: buick skylark 320, MPG: 15.0, predicted MPG: [14.875567]\n",
      "3. Car name: plymouth satellite, MPG: 18.0, predicted MPG: [14.94723]\n",
      "4. Car name: amc rebel sst, MPG: 16.0, predicted MPG: [17.351963]\n",
      "5. Car name: ford torino, MPG: 17.0, predicted MPG: [14.980891]\n",
      "6. Car name: ford galaxie 500, MPG: 15.0, predicted MPG: [13.002566]\n",
      "7. Car name: chevrolet impala, MPG: 14.0, predicted MPG: [14.015742]\n",
      "8. Car name: plymouth fury iii, MPG: 14.0, predicted MPG: [14.640193]\n",
      "9. Car name: pontiac catalina, MPG: 14.0, predicted MPG: [15.63853]\n",
      "10. Car name: amc ambassador dpl, MPG: 15.0, predicted MPG: [14.357509]\n"
     ]
    }
   ],
   "source": [
    "# Sample predictions\n",
    "for i in range(10):\n",
    "    print(f\"{i+1}. Car name: {cars[i]}, MPG: {y[i]}, \" \n",
    "          + f\"predicted MPG: {pred[i]}\")"
   ]
  },
  {
   "cell_type": "code",
   "execution_count": 21,
   "metadata": {},
   "outputs": [
    {
     "data": {
      "text/plain": [
       "array([[4.9, 3. , 1.4, 0.2],\n",
       "       [4.7, 3.2, 1.3, 0.2],\n",
       "       [4.6, 3.1, 1.5, 0.2],\n",
       "       [5. , 3.6, 1.4, 0.2],\n",
       "       [5.4, 3.9, 1.7, 0.4],\n",
       "       [4.6, 3.4, 1.4, 0.3],\n",
       "       [5. , 3.4, 1.5, 0.2],\n",
       "       [4.4, 2.9, 1.4, 0.2],\n",
       "       [4.9, 3.1, 1.5, 0.1]])"
      ]
     },
     "metadata": {},
     "output_type": "display_data"
    },
    {
     "data": {
      "text/html": [
       "<div>\n",
       "<style scoped>\n",
       "    .dataframe tbody tr th:only-of-type {\n",
       "        vertical-align: middle;\n",
       "    }\n",
       "\n",
       "    .dataframe tbody tr th {\n",
       "        vertical-align: top;\n",
       "    }\n",
       "\n",
       "    .dataframe thead th {\n",
       "        text-align: right;\n",
       "    }\n",
       "</style>\n",
       "<table border=\"1\" class=\"dataframe\">\n",
       "  <thead>\n",
       "    <tr style=\"text-align: right;\">\n",
       "      <th></th>\n",
       "      <th>Iris-setosa</th>\n",
       "      <th>Iris-versicolor</th>\n",
       "      <th>Iris-virginica</th>\n",
       "    </tr>\n",
       "  </thead>\n",
       "  <tbody>\n",
       "    <tr>\n",
       "      <th>0</th>\n",
       "      <td>True</td>\n",
       "      <td>False</td>\n",
       "      <td>False</td>\n",
       "    </tr>\n",
       "    <tr>\n",
       "      <th>1</th>\n",
       "      <td>True</td>\n",
       "      <td>False</td>\n",
       "      <td>False</td>\n",
       "    </tr>\n",
       "    <tr>\n",
       "      <th>2</th>\n",
       "      <td>True</td>\n",
       "      <td>False</td>\n",
       "      <td>False</td>\n",
       "    </tr>\n",
       "    <tr>\n",
       "      <th>3</th>\n",
       "      <td>True</td>\n",
       "      <td>False</td>\n",
       "      <td>False</td>\n",
       "    </tr>\n",
       "    <tr>\n",
       "      <th>4</th>\n",
       "      <td>True</td>\n",
       "      <td>False</td>\n",
       "      <td>False</td>\n",
       "    </tr>\n",
       "    <tr>\n",
       "      <th>5</th>\n",
       "      <td>True</td>\n",
       "      <td>False</td>\n",
       "      <td>False</td>\n",
       "    </tr>\n",
       "    <tr>\n",
       "      <th>6</th>\n",
       "      <td>True</td>\n",
       "      <td>False</td>\n",
       "      <td>False</td>\n",
       "    </tr>\n",
       "    <tr>\n",
       "      <th>7</th>\n",
       "      <td>True</td>\n",
       "      <td>False</td>\n",
       "      <td>False</td>\n",
       "    </tr>\n",
       "    <tr>\n",
       "      <th>8</th>\n",
       "      <td>True</td>\n",
       "      <td>False</td>\n",
       "      <td>False</td>\n",
       "    </tr>\n",
       "    <tr>\n",
       "      <th>9</th>\n",
       "      <td>True</td>\n",
       "      <td>False</td>\n",
       "      <td>False</td>\n",
       "    </tr>\n",
       "  </tbody>\n",
       "</table>\n",
       "</div>"
      ],
      "text/plain": [
       "   Iris-setosa  Iris-versicolor  Iris-virginica\n",
       "0         True            False           False\n",
       "1         True            False           False\n",
       "2         True            False           False\n",
       "3         True            False           False\n",
       "4         True            False           False\n",
       "5         True            False           False\n",
       "6         True            False           False\n",
       "7         True            False           False\n",
       "8         True            False           False\n",
       "9         True            False           False"
      ]
     },
     "metadata": {},
     "output_type": "display_data"
    },
    {
     "data": {
      "text/plain": [
       "Index(['Iris-setosa', 'Iris-versicolor', 'Iris-virginica'], dtype='object')"
      ]
     },
     "metadata": {},
     "output_type": "display_data"
    },
    {
     "data": {
      "text/plain": [
       "array([[ True, False, False],\n",
       "       [ True, False, False],\n",
       "       [ True, False, False],\n",
       "       [ True, False, False],\n",
       "       [ True, False, False],\n",
       "       [ True, False, False],\n",
       "       [ True, False, False],\n",
       "       [ True, False, False],\n",
       "       [ True, False, False],\n",
       "       [ True, False, False]])"
      ]
     },
     "metadata": {},
     "output_type": "display_data"
    }
   ],
   "source": [
    "import pandas as pd\n",
    "import io\n",
    "import requests\n",
    "import numpy as np\n",
    "from sklearn import metrics\n",
    "from keras.models import Sequential\n",
    "from keras.layers import Dense, Activation\n",
    "from keras.callbacks import EarlyStopping\n",
    "\n",
    "df=pd.read_csv(\n",
    "    \"https://data.heatonresearch.com/data/t81-558/iris.csv\",\n",
    "    na_values=['NA','?'])\n",
    "\n",
    "x=df[['sepal_l','sepal_w','petal_l','petal_w']].values\n",
    "display(x[1:10])\n",
    "dummies=pd.get_dummies(df['species'])\n",
    "display(dummies[0:10])\n",
    "species=dummies.columns\n",
    "display(species[0:10])\n",
    "y=dummies.values\n",
    "display(y[0:10])"
   ]
  },
  {
   "cell_type": "code",
   "execution_count": 22,
   "metadata": {},
   "outputs": [
    {
     "name": "stdout",
     "output_type": "stream",
     "text": [
      "Epoch 1/100\n"
     ]
    },
    {
     "name": "stderr",
     "output_type": "stream",
     "text": [
      "C:\\Users\\HP\\AppData\\Roaming\\Python\\Python311\\site-packages\\keras\\src\\layers\\core\\dense.py:87: UserWarning: Do not pass an `input_shape`/`input_dim` argument to a layer. When using Sequential models, prefer using an `Input(shape)` object as the first layer in the model instead.\n",
      "  super().__init__(activity_regularizer=activity_regularizer, **kwargs)\n"
     ]
    },
    {
     "name": "stdout",
     "output_type": "stream",
     "text": [
      "5/5 - 1s - 186ms/step - loss: 1.3769\n",
      "Epoch 2/100\n",
      "5/5 - 0s - 11ms/step - loss: 1.1806\n",
      "Epoch 3/100\n",
      "5/5 - 0s - 10ms/step - loss: 1.0861\n",
      "Epoch 4/100\n",
      "5/5 - 0s - 9ms/step - loss: 1.0037\n",
      "Epoch 5/100\n",
      "5/5 - 0s - 7ms/step - loss: 0.9381\n",
      "Epoch 6/100\n",
      "5/5 - 0s - 8ms/step - loss: 0.8736\n",
      "Epoch 7/100\n",
      "5/5 - 0s - 7ms/step - loss: 0.8222\n",
      "Epoch 8/100\n",
      "5/5 - 0s - 6ms/step - loss: 0.7819\n",
      "Epoch 9/100\n",
      "5/5 - 0s - 7ms/step - loss: 0.7447\n",
      "Epoch 10/100\n",
      "5/5 - 0s - 7ms/step - loss: 0.7064\n",
      "Epoch 11/100\n",
      "5/5 - 0s - 7ms/step - loss: 0.6732\n",
      "Epoch 12/100\n",
      "5/5 - 0s - 7ms/step - loss: 0.6422\n",
      "Epoch 13/100\n",
      "5/5 - 0s - 8ms/step - loss: 0.6133\n",
      "Epoch 14/100\n",
      "5/5 - 0s - 7ms/step - loss: 0.5876\n",
      "Epoch 15/100\n",
      "5/5 - 0s - 7ms/step - loss: 0.5638\n",
      "Epoch 16/100\n",
      "5/5 - 0s - 8ms/step - loss: 0.5409\n",
      "Epoch 17/100\n",
      "5/5 - 0s - 9ms/step - loss: 0.5210\n",
      "Epoch 18/100\n",
      "5/5 - 0s - 8ms/step - loss: 0.4995\n",
      "Epoch 19/100\n",
      "5/5 - 0s - 8ms/step - loss: 0.4793\n",
      "Epoch 20/100\n",
      "5/5 - 0s - 8ms/step - loss: 0.4577\n",
      "Epoch 21/100\n",
      "5/5 - 0s - 8ms/step - loss: 0.4416\n",
      "Epoch 22/100\n",
      "5/5 - 0s - 8ms/step - loss: 0.4253\n",
      "Epoch 23/100\n",
      "5/5 - 0s - 8ms/step - loss: 0.4109\n",
      "Epoch 24/100\n",
      "5/5 - 0s - 9ms/step - loss: 0.3961\n",
      "Epoch 25/100\n",
      "5/5 - 0s - 9ms/step - loss: 0.3805\n",
      "Epoch 26/100\n",
      "5/5 - 0s - 8ms/step - loss: 0.3709\n",
      "Epoch 27/100\n",
      "5/5 - 0s - 9ms/step - loss: 0.3544\n",
      "Epoch 28/100\n",
      "5/5 - 0s - 9ms/step - loss: 0.3441\n",
      "Epoch 29/100\n",
      "5/5 - 0s - 10ms/step - loss: 0.3321\n",
      "Epoch 30/100\n",
      "5/5 - 0s - 9ms/step - loss: 0.3210\n",
      "Epoch 31/100\n",
      "5/5 - 0s - 9ms/step - loss: 0.3095\n",
      "Epoch 32/100\n",
      "5/5 - 0s - 10ms/step - loss: 0.2981\n",
      "Epoch 33/100\n",
      "5/5 - 0s - 17ms/step - loss: 0.2876\n",
      "Epoch 34/100\n",
      "5/5 - 0s - 12ms/step - loss: 0.2786\n",
      "Epoch 35/100\n",
      "5/5 - 0s - 12ms/step - loss: 0.2670\n",
      "Epoch 36/100\n",
      "5/5 - 0s - 12ms/step - loss: 0.2591\n",
      "Epoch 37/100\n",
      "5/5 - 0s - 13ms/step - loss: 0.2508\n",
      "Epoch 38/100\n",
      "5/5 - 0s - 11ms/step - loss: 0.2424\n",
      "Epoch 39/100\n",
      "5/5 - 0s - 10ms/step - loss: 0.2321\n",
      "Epoch 40/100\n",
      "5/5 - 0s - 11ms/step - loss: 0.2274\n",
      "Epoch 41/100\n",
      "5/5 - 0s - 11ms/step - loss: 0.2203\n",
      "Epoch 42/100\n",
      "5/5 - 0s - 11ms/step - loss: 0.2111\n",
      "Epoch 43/100\n",
      "5/5 - 0s - 12ms/step - loss: 0.2028\n",
      "Epoch 44/100\n",
      "5/5 - 0s - 10ms/step - loss: 0.1967\n",
      "Epoch 45/100\n",
      "5/5 - 0s - 10ms/step - loss: 0.1907\n",
      "Epoch 46/100\n",
      "5/5 - 0s - 11ms/step - loss: 0.1837\n",
      "Epoch 47/100\n",
      "5/5 - 0s - 10ms/step - loss: 0.1789\n",
      "Epoch 48/100\n",
      "5/5 - 0s - 10ms/step - loss: 0.1752\n",
      "Epoch 49/100\n",
      "5/5 - 0s - 10ms/step - loss: 0.1699\n",
      "Epoch 50/100\n",
      "5/5 - 0s - 10ms/step - loss: 0.1645\n",
      "Epoch 51/100\n",
      "5/5 - 0s - 9ms/step - loss: 0.1614\n",
      "Epoch 52/100\n",
      "5/5 - 0s - 9ms/step - loss: 0.1587\n",
      "Epoch 53/100\n",
      "5/5 - 0s - 9ms/step - loss: 0.1514\n",
      "Epoch 54/100\n",
      "5/5 - 0s - 9ms/step - loss: 0.1481\n",
      "Epoch 55/100\n",
      "5/5 - 0s - 9ms/step - loss: 0.1456\n",
      "Epoch 56/100\n",
      "5/5 - 0s - 10ms/step - loss: 0.1419\n",
      "Epoch 57/100\n",
      "5/5 - 0s - 9ms/step - loss: 0.1387\n",
      "Epoch 58/100\n",
      "5/5 - 0s - 9ms/step - loss: 0.1354\n",
      "Epoch 59/100\n",
      "5/5 - 0s - 9ms/step - loss: 0.1329\n",
      "Epoch 60/100\n",
      "5/5 - 0s - 8ms/step - loss: 0.1304\n",
      "Epoch 61/100\n",
      "5/5 - 0s - 8ms/step - loss: 0.1279\n",
      "Epoch 62/100\n",
      "5/5 - 0s - 8ms/step - loss: 0.1249\n",
      "Epoch 63/100\n",
      "5/5 - 0s - 8ms/step - loss: 0.1273\n",
      "Epoch 64/100\n",
      "5/5 - 0s - 8ms/step - loss: 0.1190\n",
      "Epoch 65/100\n",
      "5/5 - 0s - 8ms/step - loss: 0.1223\n",
      "Epoch 66/100\n",
      "5/5 - 0s - 9ms/step - loss: 0.1167\n",
      "Epoch 67/100\n",
      "5/5 - 0s - 8ms/step - loss: 0.1152\n",
      "Epoch 68/100\n",
      "5/5 - 0s - 8ms/step - loss: 0.1139\n",
      "Epoch 69/100\n",
      "5/5 - 0s - 9ms/step - loss: 0.1118\n",
      "Epoch 70/100\n",
      "5/5 - 0s - 12ms/step - loss: 0.1113\n",
      "Epoch 71/100\n",
      "5/5 - 0s - 11ms/step - loss: 0.1121\n",
      "Epoch 72/100\n",
      "5/5 - 0s - 15ms/step - loss: 0.1086\n",
      "Epoch 73/100\n",
      "5/5 - 0s - 12ms/step - loss: 0.1077\n",
      "Epoch 74/100\n",
      "5/5 - 0s - 9ms/step - loss: 0.1035\n",
      "Epoch 75/100\n",
      "5/5 - 0s - 15ms/step - loss: 0.1024\n",
      "Epoch 76/100\n",
      "5/5 - 0s - 10ms/step - loss: 0.1034\n",
      "Epoch 77/100\n",
      "5/5 - 0s - 9ms/step - loss: 0.1009\n",
      "Epoch 78/100\n",
      "5/5 - 0s - 10ms/step - loss: 0.1007\n",
      "Epoch 79/100\n",
      "5/5 - 0s - 10ms/step - loss: 0.1006\n",
      "Epoch 80/100\n",
      "5/5 - 0s - 11ms/step - loss: 0.0974\n",
      "Epoch 81/100\n",
      "5/5 - 0s - 10ms/step - loss: 0.1020\n",
      "Epoch 82/100\n",
      "5/5 - 0s - 10ms/step - loss: 0.0960\n",
      "Epoch 83/100\n",
      "5/5 - 0s - 12ms/step - loss: 0.0951\n",
      "Epoch 84/100\n",
      "5/5 - 0s - 12ms/step - loss: 0.0940\n",
      "Epoch 85/100\n",
      "5/5 - 0s - 12ms/step - loss: 0.0920\n",
      "Epoch 86/100\n",
      "5/5 - 0s - 11ms/step - loss: 0.0919\n",
      "Epoch 87/100\n",
      "5/5 - 0s - 13ms/step - loss: 0.0914\n",
      "Epoch 88/100\n",
      "5/5 - 0s - 13ms/step - loss: 0.0887\n",
      "Epoch 89/100\n",
      "5/5 - 0s - 15ms/step - loss: 0.0897\n",
      "Epoch 90/100\n",
      "5/5 - 0s - 12ms/step - loss: 0.0891\n",
      "Epoch 91/100\n",
      "5/5 - 0s - 11ms/step - loss: 0.0883\n",
      "Epoch 92/100\n",
      "5/5 - 0s - 11ms/step - loss: 0.0869\n",
      "Epoch 93/100\n",
      "5/5 - 0s - 10ms/step - loss: 0.0872\n",
      "Epoch 94/100\n",
      "5/5 - 0s - 10ms/step - loss: 0.0858\n",
      "Epoch 95/100\n",
      "5/5 - 0s - 10ms/step - loss: 0.0848\n",
      "Epoch 96/100\n",
      "5/5 - 0s - 12ms/step - loss: 0.0857\n",
      "Epoch 97/100\n",
      "5/5 - 0s - 11ms/step - loss: 0.0861\n",
      "Epoch 98/100\n",
      "5/5 - 0s - 10ms/step - loss: 0.0835\n",
      "Epoch 99/100\n",
      "5/5 - 0s - 10ms/step - loss: 0.0828\n",
      "Epoch 100/100\n",
      "5/5 - 0s - 10ms/step - loss: 0.0823\n"
     ]
    },
    {
     "data": {
      "text/plain": [
       "<keras.src.callbacks.history.History at 0x1f357940f90>"
      ]
     },
     "execution_count": 22,
     "metadata": {},
     "output_type": "execute_result"
    }
   ],
   "source": [
    "model=Sequential()\n",
    "model.add(Dense(50,input_dim=x.shape[1],activation='relu'))\n",
    "model.add(Dense(25,activation='relu'))\n",
    "model.add(Dense(y.shape[1],activation='softmax'))\n",
    "\n",
    "model.compile(loss='categorical_crossentropy', optimizer='adam')\n",
    "model.fit(x,y,verbose=2,epochs=100)"
   ]
  },
  {
   "cell_type": "code",
   "execution_count": 23,
   "metadata": {},
   "outputs": [
    {
     "name": "stdout",
     "output_type": "stream",
     "text": [
      "Index(['Iris-setosa', 'Iris-versicolor', 'Iris-virginica'], dtype='object')\n"
     ]
    }
   ],
   "source": [
    "print(species)"
   ]
  },
  {
   "cell_type": "code",
   "execution_count": 25,
   "metadata": {},
   "outputs": [
    {
     "name": "stdout",
     "output_type": "stream",
     "text": [
      "\u001b[1m5/5\u001b[0m \u001b[32m━━━━━━━━━━━━━━━━━━━━\u001b[0m\u001b[37m\u001b[0m \u001b[1m0s\u001b[0m 2ms/step \n",
      "Shape: (150, 3)\n",
      "[[9.96854365e-01 3.14562628e-03 2.01024974e-09]\n",
      " [9.93532896e-01 6.46714680e-03 1.22821868e-08]\n",
      " [9.95000541e-01 4.99944715e-03 9.12638765e-09]\n",
      " [9.91640925e-01 8.35900567e-03 3.17826547e-08]\n",
      " [9.96969283e-01 3.03074112e-03 2.05605932e-09]\n",
      " [9.96617377e-01 3.38265765e-03 2.03656358e-09]\n",
      " [9.94655132e-01 5.34493476e-03 1.45939989e-08]\n",
      " [9.95787680e-01 4.21228027e-03 4.62640948e-09]\n",
      " [9.89847839e-01 1.01520279e-02 6.32755217e-08]\n",
      " [9.94261622e-01 5.73837850e-03 8.91957530e-09]\n",
      " [9.97646391e-01 2.35358207e-03 7.43534179e-10]\n",
      " [9.94169235e-01 5.83081320e-03 1.18403038e-08]\n",
      " [9.94114995e-01 5.88493096e-03 1.06461702e-08]\n",
      " [9.94160354e-01 5.83963189e-03 1.70626695e-08]\n",
      " [9.98916984e-01 1.08303351e-03 5.09363905e-11]\n",
      " [9.98761177e-01 1.23878429e-03 1.27522770e-10]\n",
      " [9.97977555e-01 2.02249316e-03 5.31242050e-10]\n",
      " [9.96430755e-01 3.56926071e-03 2.96556757e-09]\n",
      " [9.97317016e-01 2.68302928e-03 7.53330898e-10]\n",
      " [9.97155428e-01 2.84452690e-03 1.91569760e-09]\n",
      " [9.94947910e-01 5.05205849e-03 3.50445939e-09]\n",
      " [9.96381104e-01 3.61897843e-03 3.63963415e-09]\n",
      " [9.97073889e-01 2.92612426e-03 1.94088789e-09]\n",
      " [9.85229433e-01 1.47705646e-02 5.02368884e-08]\n",
      " [9.85551119e-01 1.44488430e-02 5.54472628e-08]\n",
      " [9.90175426e-01 9.82455723e-03 2.22479049e-08]\n",
      " [9.92200434e-01 7.79959466e-03 1.75455455e-08]\n",
      " [9.96668041e-01 3.33199906e-03 2.09895434e-09]\n",
      " [9.96664941e-01 3.33508058e-03 1.97284011e-09]\n",
      " [9.91296530e-01 8.70347675e-03 2.84883690e-08]\n",
      " [9.90425169e-01 9.57481563e-03 2.89750464e-08]\n",
      " [9.95437443e-01 4.56258887e-03 3.61800634e-09]\n",
      " [9.98354077e-01 1.64599239e-03 3.32141592e-10]\n",
      " [9.98725235e-01 1.27477979e-03 1.22726634e-10]\n",
      " [9.93213654e-01 6.78633712e-03 1.36818059e-08]\n",
      " [9.96246159e-01 3.75381205e-03 3.00492831e-09]\n",
      " [9.97752607e-01 2.24744738e-03 5.03821374e-10]\n",
      " [9.97091532e-01 2.90842587e-03 1.84117877e-09]\n",
      " [9.92512345e-01 7.48764724e-03 3.36634578e-08]\n",
      " [9.96028423e-01 3.97156039e-03 3.53212082e-09]\n",
      " [9.96597469e-01 3.40248272e-03 2.84513302e-09]\n",
      " [9.76181984e-01 2.38178000e-02 2.85342509e-07]\n",
      " [9.94059324e-01 5.94072603e-03 2.04336832e-08]\n",
      " [9.89558041e-01 1.04419328e-02 3.53801539e-08]\n",
      " [9.90776598e-01 9.22342949e-03 1.85222540e-08]\n",
      " [9.91905332e-01 8.09461810e-03 2.46206469e-08]\n",
      " [9.97204483e-01 2.79552233e-03 1.77204773e-09]\n",
      " [9.94059682e-01 5.94030926e-03 1.63065135e-08]\n",
      " [9.97506678e-01 2.49332190e-03 9.72879666e-10]\n",
      " [9.95797276e-01 4.20279847e-03 4.33608260e-09]\n",
      " [1.70121226e-03 9.96515751e-01 1.78303360e-03]\n",
      " [1.67032273e-03 9.89395320e-01 8.93434137e-03]\n",
      " [7.81937269e-04 9.84574497e-01 1.46435862e-02]\n",
      " [2.19332124e-03 9.22454119e-01 7.53525645e-02]\n",
      " [9.97770578e-04 9.68804717e-01 3.01975142e-02]\n",
      " [1.21251307e-03 8.68982971e-01 1.29804537e-01]\n",
      " [1.00910442e-03 9.50209796e-01 4.87810709e-02]\n",
      " [1.82177424e-02 9.76795137e-01 4.98719281e-03]\n",
      " [1.49681943e-03 9.92833495e-01 5.66968182e-03]\n",
      " [2.98474613e-03 9.17082846e-01 7.99324214e-02]\n",
      " [6.66173501e-03 9.75693762e-01 1.76444612e-02]\n",
      " [2.27895821e-03 9.76811707e-01 2.09093299e-02]\n",
      " [4.27862769e-03 9.92199600e-01 3.52173927e-03]\n",
      " [8.65525275e-04 8.93214703e-01 1.05919763e-01]\n",
      " [1.38667841e-02 9.83294368e-01 2.83888588e-03]\n",
      " [2.89960601e-03 9.95326638e-01 1.77380384e-03]\n",
      " [8.89278541e-04 7.33688474e-01 2.65422285e-01]\n",
      " [5.25456853e-03 9.91087615e-01 3.65786627e-03]\n",
      " [5.60589542e-04 7.69625068e-01 2.29814276e-01]\n",
      " [4.71716048e-03 9.88493025e-01 6.78984169e-03]\n",
      " [2.15354477e-04 3.87648314e-01 6.12136364e-01]\n",
      " [4.95575881e-03 9.92249370e-01 2.79493374e-03]\n",
      " [2.39759698e-04 5.55014729e-01 4.44745511e-01]\n",
      " [1.11963868e-03 9.46485817e-01 5.23945391e-02]\n",
      " [2.90780771e-03 9.94295180e-01 2.79699545e-03]\n",
      " [2.33302033e-03 9.94877279e-01 2.78968993e-03]\n",
      " [8.39559885e-04 9.82340574e-01 1.68199111e-02]\n",
      " [3.61394457e-04 8.27267468e-01 1.72371134e-01]\n",
      " [1.10848434e-03 9.09530699e-01 8.93607959e-02]\n",
      " [2.73488276e-02 9.71957564e-01 6.93644048e-04]\n",
      " [5.05881058e-03 9.87421632e-01 7.51955528e-03]\n",
      " [8.91127717e-03 9.87787545e-01 3.30120837e-03]\n",
      " [5.75573323e-03 9.90474999e-01 3.76932742e-03]\n",
      " [3.24267567e-05 1.15890145e-01 8.84077370e-01]\n",
      " [6.52502116e-04 5.56559980e-01 4.42787468e-01]\n",
      " [1.64375373e-03 9.57349122e-01 4.10071164e-02]\n",
      " [1.11106853e-03 9.88119185e-01 1.07697705e-02]\n",
      " [1.26484304e-03 9.67934787e-01 3.08003407e-02]\n",
      " [3.56513308e-03 9.82311130e-01 1.41237248e-02]\n",
      " [2.65708403e-03 9.52098548e-01 4.52443734e-02]\n",
      " [1.33136613e-03 8.36112320e-01 1.62556350e-01]\n",
      " [1.21133693e-03 9.49207842e-01 4.95808274e-02]\n",
      " [3.70190898e-03 9.89574134e-01 6.72399951e-03]\n",
      " [1.72541700e-02 9.78501260e-01 4.24458226e-03]\n",
      " [2.14007613e-03 9.45017099e-01 5.28427586e-02]\n",
      " [3.48367239e-03 9.86566722e-01 9.94967949e-03]\n",
      " [2.65013287e-03 9.75932717e-01 2.14171801e-02]\n",
      " [2.49010324e-03 9.92110789e-01 5.39909443e-03]\n",
      " [5.29885441e-02 9.45731938e-01 1.27954164e-03]\n",
      " [2.98816268e-03 9.80715632e-01 1.62962545e-02]\n",
      " [7.78177522e-08 1.71872217e-03 9.98281121e-01]\n",
      " [2.42318288e-06 1.26787825e-02 9.87318814e-01]\n",
      " [1.00420289e-06 2.06716135e-02 9.79327381e-01]\n",
      " [1.74331944e-06 1.66387595e-02 9.83359456e-01]\n",
      " [2.03750773e-07 3.53535265e-03 9.96464372e-01]\n",
      " [5.74607455e-08 3.50228976e-03 9.96497691e-01]\n",
      " [9.21010451e-06 1.62697285e-02 9.83721018e-01]\n",
      " [6.13022792e-07 1.82678550e-02 9.81731594e-01]\n",
      " [6.61404442e-07 1.01682032e-02 9.89831150e-01]\n",
      " [2.08562668e-07 6.68083224e-03 9.93318915e-01]\n",
      " [8.37941334e-05 3.15374762e-01 6.84541464e-01]\n",
      " [5.85485486e-06 4.29519787e-02 9.57042217e-01]\n",
      " [5.26400027e-06 5.47665097e-02 9.45228159e-01]\n",
      " [1.59142587e-06 7.87472446e-03 9.92123783e-01]\n",
      " [7.13171914e-07 4.89392644e-03 9.95105386e-01]\n",
      " [2.49346749e-06 2.15494912e-02 9.78448033e-01]\n",
      " [1.05934459e-05 7.72643760e-02 9.22725081e-01]\n",
      " [2.61365386e-07 1.41520780e-02 9.85847712e-01]\n",
      " [1.24057342e-08 1.05823309e-03 9.98941720e-01]\n",
      " [2.35379775e-05 8.88908207e-02 9.11085665e-01]\n",
      " [1.03570676e-06 1.72749143e-02 9.82724011e-01]\n",
      " [3.36104245e-06 1.34769306e-02 9.86519694e-01]\n",
      " [5.06239139e-08 3.34198354e-03 9.96657968e-01]\n",
      " [1.04352752e-04 3.13041121e-01 6.86854601e-01]\n",
      " [2.31084869e-06 2.85434648e-02 9.71454203e-01]\n",
      " [8.93860306e-06 1.26934797e-01 8.73056233e-01]\n",
      " [1.76620175e-04 4.11008388e-01 5.88815093e-01]\n",
      " [1.29363441e-04 3.18525434e-01 6.81345224e-01]\n",
      " [3.80913633e-07 4.92098927e-03 9.95078683e-01]\n",
      " [4.87724428e-05 4.15945262e-01 5.84005952e-01]\n",
      " [1.41396072e-06 3.60672772e-02 9.63931382e-01]\n",
      " [1.44263431e-05 3.15015823e-01 6.84969664e-01]\n",
      " [3.15182234e-07 4.25570831e-03 9.95743930e-01]\n",
      " [1.79892842e-04 4.83934283e-01 5.15885830e-01]\n",
      " [3.91437106e-06 2.74617225e-02 9.72534359e-01]\n",
      " [7.26689336e-07 2.58743968e-02 9.74124849e-01]\n",
      " [2.91199086e-07 3.97016015e-03 9.96029615e-01]\n",
      " [1.00259258e-05 6.89565092e-02 9.31033492e-01]\n",
      " [1.70661340e-04 3.53153855e-01 6.46675467e-01]\n",
      " [2.11000206e-05 1.63159102e-01 8.36819768e-01]\n",
      " [4.05145926e-07 6.55700499e-03 9.93442655e-01]\n",
      " [4.65311969e-05 2.64914542e-01 7.35038936e-01]\n",
      " [2.42318288e-06 1.26787825e-02 9.87318814e-01]\n",
      " [1.84377924e-07 4.12004115e-03 9.95879769e-01]\n",
      " [2.25917759e-07 4.20797151e-03 9.95791793e-01]\n",
      " [8.61060289e-06 6.73843697e-02 9.32606995e-01]\n",
      " [1.70075109e-05 8.37167203e-02 9.16266263e-01]\n",
      " [2.49594723e-05 1.34032950e-01 8.65942121e-01]\n",
      " [1.07665335e-06 9.88098420e-03 9.90117967e-01]\n",
      " [1.74482848e-05 6.62616491e-02 9.33720887e-01]]\n"
     ]
    }
   ],
   "source": [
    "pred=model.predict(x)\n",
    "print(f\"Shape: {pred.shape}\")\n",
    "print(pred)"
   ]
  },
  {
   "cell_type": "code",
   "execution_count": 26,
   "metadata": {},
   "outputs": [],
   "source": [
    "np.set_printoptions(suppress=True)"
   ]
  },
  {
   "cell_type": "code",
   "execution_count": 27,
   "metadata": {},
   "outputs": [
    {
     "name": "stdout",
     "output_type": "stream",
     "text": [
      "[[ True False False]\n",
      " [ True False False]\n",
      " [ True False False]\n",
      " [ True False False]\n",
      " [ True False False]\n",
      " [ True False False]\n",
      " [ True False False]\n",
      " [ True False False]\n",
      " [ True False False]\n",
      " [ True False False]]\n"
     ]
    }
   ],
   "source": [
    "print(y[0:10])"
   ]
  },
  {
   "cell_type": "code",
   "execution_count": 28,
   "metadata": {},
   "outputs": [
    {
     "name": "stdout",
     "output_type": "stream",
     "text": [
      "Predictions: [0 0 0 0 0 0 0 0 0 0 0 0 0 0 0 0 0 0 0 0 0 0 0 0 0 0 0 0 0 0 0 0 0 0 0 0 0\n",
      " 0 0 0 0 0 0 0 0 0 0 0 0 0 1 1 1 1 1 1 1 1 1 1 1 1 1 1 1 1 1 1 1 1 2 1 1 1\n",
      " 1 1 1 1 1 1 1 1 1 2 1 1 1 1 1 1 1 1 1 1 1 1 1 1 1 1 2 2 2 2 2 2 2 2 2 2 2\n",
      " 2 2 2 2 2 2 2 2 2 2 2 2 2 2 2 2 2 2 2 2 2 2 2 2 2 2 2 2 2 2 2 2 2 2 2 2 2\n",
      " 2 2]\n",
      "Expected: [0 0 0 0 0 0 0 0 0 0 0 0 0 0 0 0 0 0 0 0 0 0 0 0 0 0 0 0 0 0 0 0 0 0 0 0 0\n",
      " 0 0 0 0 0 0 0 0 0 0 0 0 0 1 1 1 1 1 1 1 1 1 1 1 1 1 1 1 1 1 1 1 1 1 1 1 1\n",
      " 1 1 1 1 1 1 1 1 1 1 1 1 1 1 1 1 1 1 1 1 1 1 1 1 1 1 2 2 2 2 2 2 2 2 2 2 2\n",
      " 2 2 2 2 2 2 2 2 2 2 2 2 2 2 2 2 2 2 2 2 2 2 2 2 2 2 2 2 2 2 2 2 2 2 2 2 2\n",
      " 2 2]\n"
     ]
    }
   ],
   "source": [
    "predict_classes = np.argmax(pred,axis=1)\n",
    "expected_classes = np.argmax(y,axis=1)\n",
    "print(f\"Predictions: {predict_classes}\")\n",
    "print(f\"Expected: {expected_classes}\")"
   ]
  },
  {
   "cell_type": "code",
   "execution_count": 29,
   "metadata": {},
   "outputs": [
    {
     "name": "stdout",
     "output_type": "stream",
     "text": [
      "Index(['Iris-setosa', 'Iris-setosa', 'Iris-setosa', 'Iris-setosa',\n",
      "       'Iris-setosa', 'Iris-setosa', 'Iris-setosa', 'Iris-setosa',\n",
      "       'Iris-setosa'],\n",
      "      dtype='object')\n"
     ]
    }
   ],
   "source": [
    "print(species[predict_classes[1:10]])\n"
   ]
  },
  {
   "cell_type": "code",
   "execution_count": 30,
   "metadata": {},
   "outputs": [
    {
     "name": "stdout",
     "output_type": "stream",
     "text": [
      "Accuracy: 0.9866666666666667\n"
     ]
    }
   ],
   "source": [
    "from sklearn.metrics import accuracy_score\n",
    "\n",
    "correct=accuracy_score(expected_classes,predict_classes)\n",
    "print(f\"Accuracy: {correct}\")"
   ]
  },
  {
   "cell_type": "code",
   "execution_count": 31,
   "metadata": {},
   "outputs": [
    {
     "name": "stdout",
     "output_type": "stream",
     "text": [
      "\u001b[1m1/1\u001b[0m \u001b[32m━━━━━━━━━━━━━━━━━━━━\u001b[0m\u001b[37m\u001b[0m \u001b[1m0s\u001b[0m 26ms/step\n",
      "[[0.00036277 0.23298742 0.7666499 ]]\n",
      "Predict that [[5. 3. 4. 2.]] is: Iris-virginica\n"
     ]
    }
   ],
   "source": [
    "sample_flower = np.array( [[5.0,3.0,4.0,2.0]], dtype=float)\n",
    "pred = model.predict(sample_flower)\n",
    "print(pred)\n",
    "pred = np.argmax(pred)\n",
    "print(f\"Predict that {sample_flower} is: {species[pred]}\")"
   ]
  },
  {
   "cell_type": "code",
   "execution_count": 32,
   "metadata": {},
   "outputs": [
    {
     "name": "stdout",
     "output_type": "stream",
     "text": [
      "\u001b[1m1/1\u001b[0m \u001b[32m━━━━━━━━━━━━━━━━━━━━\u001b[0m\u001b[37m\u001b[0m \u001b[1m0s\u001b[0m 17ms/step\n",
      "[[0.00036277 0.2329874  0.7666499 ]\n",
      " [0.9895096  0.01049038 0.00000003]]\n",
      "Predict that these two flowers [[5.  3.  4.  2. ]\n",
      " [5.2 3.5 1.5 0.8]] \n",
      "are: Index(['Iris-virginica', 'Iris-setosa'], dtype='object')\n"
     ]
    }
   ],
   "source": [
    "sample_flower = np.array( [[5.0,3.0,4.0,2.0],[5.2,3.5,1.5,0.8]],\\\n",
    "        dtype=float)\n",
    "pred = model.predict(sample_flower)\n",
    "print(pred)\n",
    "pred = np.argmax(pred,axis=1)\n",
    "print(f\"Predict that these two flowers {sample_flower} \")\n",
    "print(f\"are: {species[pred]}\")"
   ]
  }
 ],
 "metadata": {
  "kernelspec": {
   "display_name": "base",
   "language": "python",
   "name": "python3"
  },
  "language_info": {
   "codemirror_mode": {
    "name": "ipython",
    "version": 3
   },
   "file_extension": ".py",
   "mimetype": "text/x-python",
   "name": "python",
   "nbconvert_exporter": "python",
   "pygments_lexer": "ipython3",
   "version": "3.11.5"
  }
 },
 "nbformat": 4,
 "nbformat_minor": 2
}
