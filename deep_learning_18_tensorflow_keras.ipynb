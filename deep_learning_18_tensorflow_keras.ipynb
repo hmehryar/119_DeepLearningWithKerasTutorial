{
 "cells": [
  {
   "cell_type": "code",
   "execution_count": 1,
   "metadata": {},
   "outputs": [
    {
     "name": "stdout",
     "output_type": "stream",
     "text": [
      "Tensor Flow Version: 2.10.1\n"
     ]
    }
   ],
   "source": [
    "import tensorflow as tf\n",
    "print(f\"Tensor Flow Version: {tf.__version__}\")"
   ]
  },
  {
   "cell_type": "code",
   "execution_count": 4,
   "metadata": {},
   "outputs": [
    {
     "data": {
      "image/jpeg": "[encoded data removed]",
      "text/plain": [
       "<IPython.core.display.Image object>"
      ]
     },
     "metadata": {},
     "output_type": "display_data"
    }
   ],
   "source": [
    "import tensorflow as tf\n",
    "import numpy as np\n",
    "\n",
    "import PIL.Image\n",
    "from io import BytesIO\n",
    "from IPython.display import Image,display\n",
    "\n",
    "def DisplayFractal (a,fmt='jpeg'):\n",
    "    \"\"\"Display an array of iteration counts as a \n",
    "    colorful picture of a fractal.\"\"\"\n",
    "    a_cyclic=(6.28*a/20.0).reshape(list(a.shape)+[1])\n",
    "    img=np.concatenate([10+20*np.cos(a_cyclic),\n",
    "                        30+50*np.sin(a_cyclic),\n",
    "                        155-80*np.cos(a_cyclic)],2)\n",
    "    img[a==a.max()]=0\n",
    "    a=img\n",
    "    a=np.uint8(np.clip(a,0,255))\n",
    "    f=BytesIO()\n",
    "    PIL.Image.fromarray(a).save(f,fmt)\n",
    "    display(Image(data=f.getvalue()))\n",
    "\n",
    "Y,X=np.mgrid[-1.3:1.3:0.005,-2:1:0.005]\n",
    "Z=X+1j*Y\n",
    "\n",
    "xs=tf.constant(Z.astype(np.complex64))\n",
    "zs=tf.Variable(xs)\n",
    "ns=tf.Variable(tf.zeros_like(xs,tf.float32))\n",
    "\n",
    "for i in range (200):\n",
    "    zs_=zs*zs+xs\n",
    "    not_diverged=tf.abs(zs_)<4\n",
    "\n",
    "    zs.assign(zs_),\n",
    "    ns.assign_add(tf.cast(not_diverged,tf.float32))\n",
    "\n",
    "DisplayFractal(ns.numpy())\n",
    "\n"
   ]
  },
  {
   "cell_type": "code",
   "execution_count": 5,
   "metadata": {},
   "outputs": [
    {
     "name": "stdout",
     "output_type": "stream",
     "text": [
      "tf.Tensor([[12.]], shape=(1, 1), dtype=float32)\n",
      "12.0\n"
     ]
    }
   ],
   "source": [
    "import tensorflow as tf\n",
    "matrix1=tf.constant([[3.,3.]])\n",
    "\n",
    "matrix2=tf.constant([[2.],[2.]])\n",
    "\n",
    "product=tf.matmul(matrix1,matrix2)\n",
    "\n",
    "print(product)\n",
    "print(float(product))"
   ]
  },
  {
   "cell_type": "code",
   "execution_count": 9,
   "metadata": {},
   "outputs": [
    {
     "name": "stdout",
     "output_type": "stream",
     "text": [
      "tf.Tensor([-2. -1.], shape=(2,), dtype=float32)\n",
      "[-2. -1.]\n"
     ]
    }
   ],
   "source": [
    "import tensorflow as tf\n",
    "x=tf.Variable([1.0,2.0])\n",
    "a=tf.constant([3.0,3.0])\n",
    "\n",
    "sub=tf.subtract(x,a)\n",
    "print(sub)\n",
    "print(sub.numpy())"
   ]
  },
  {
   "cell_type": "code",
   "execution_count": 10,
   "metadata": {},
   "outputs": [
    {
     "data": {
      "text/plain": [
       "<tf.Variable 'UnreadVariable' shape=(2,) dtype=float32, numpy=array([4., 6.], dtype=float32)>"
      ]
     },
     "execution_count": 10,
     "metadata": {},
     "output_type": "execute_result"
    }
   ],
   "source": [
    "x.assign([4.0,6.0])"
   ]
  },
  {
   "cell_type": "code",
   "execution_count": 11,
   "metadata": {},
   "outputs": [
    {
     "name": "stdout",
     "output_type": "stream",
     "text": [
      "tf.Tensor([1. 3.], shape=(2,), dtype=float32)\n",
      "[1. 3.]\n"
     ]
    }
   ],
   "source": [
    "sub=tf.subtract(x,a)\n",
    "print(sub)\n",
    "print(sub.numpy())"
   ]
  },
  {
   "cell_type": "code",
   "execution_count": 31,
   "metadata": {},
   "outputs": [],
   "source": [
    "from keras.layers import Dense, Activation\n",
    "import pandas as pd\n",
    "import io\n",
    "import os\n",
    "import requests\n",
    "import numpy as np\n",
    "from sklearn import metrics\n",
    "\n",
    "df=pd.read_csv(\"https://data.heatonresearch.com/data/t81-558/auto-mpg.csv\",\n",
    "               na_values=['NA','?'])\n",
    "\n",
    "cars=df['name']\n",
    "\n",
    "df['horsepower']=df['horsepower'].fillna(df['horsepower'].median())\n",
    "\n",
    "x=df[[ 'cylinders', 'displacement', 'horsepower', 'weight', 'acceleration', 'year', 'origin']].values\n",
    "y=df['mpg'].values\n",
    "\n"
   ]
  },
  {
   "cell_type": "code",
   "execution_count": 26,
   "metadata": {},
   "outputs": [],
   "source": [
    "import keras.models as models"
   ]
  },
  {
   "cell_type": "code",
   "execution_count": 27,
   "metadata": {},
   "outputs": [
    {
     "name": "stdout",
     "output_type": "stream",
     "text": [
      "Epoch 1/100\n"
     ]
    },
    {
     "name": "stderr",
     "output_type": "stream",
     "text": [
      "C:\\Users\\HP\\AppData\\Roaming\\Python\\Python311\\site-packages\\keras\\src\\layers\\core\\dense.py:87: UserWarning: Do not pass an `input_shape`/`input_dim` argument to a layer. When using Sequential models, prefer using an `Input(shape)` object as the first layer in the model instead.\n",
      "  super().__init__(activity_regularizer=activity_regularizer, **kwargs)\n"
     ]
    },
    {
     "name": "stdout",
     "output_type": "stream",
     "text": [
      "13/13 - 1s - 83ms/step - loss: 38162.4023\n",
      "Epoch 2/100\n",
      "13/13 - 0s - 5ms/step - loss: 4070.6174\n",
      "Epoch 3/100\n",
      "13/13 - 0s - 4ms/step - loss: 304.6751\n",
      "Epoch 4/100\n",
      "13/13 - 0s - 4ms/step - loss: 592.8732\n",
      "Epoch 5/100\n",
      "13/13 - 0s - 4ms/step - loss: 600.1481\n",
      "Epoch 6/100\n",
      "13/13 - 0s - 4ms/step - loss: 550.0932\n",
      "Epoch 7/100\n",
      "13/13 - 0s - 4ms/step - loss: 296.1603\n",
      "Epoch 8/100\n",
      "13/13 - 0s - 5ms/step - loss: 136.2741\n",
      "Epoch 9/100\n",
      "13/13 - 0s - 4ms/step - loss: 141.3675\n",
      "Epoch 10/100\n",
      "13/13 - 0s - 4ms/step - loss: 126.0414\n",
      "Epoch 11/100\n",
      "13/13 - 0s - 4ms/step - loss: 123.6520\n",
      "Epoch 12/100\n",
      "13/13 - 0s - 4ms/step - loss: 121.9471\n",
      "Epoch 13/100\n",
      "13/13 - 0s - 5ms/step - loss: 120.4971\n",
      "Epoch 14/100\n",
      "13/13 - 0s - 5ms/step - loss: 118.5630\n",
      "Epoch 15/100\n",
      "13/13 - 0s - 7ms/step - loss: 116.9654\n",
      "Epoch 16/100\n",
      "13/13 - 0s - 6ms/step - loss: 115.7607\n",
      "Epoch 17/100\n",
      "13/13 - 0s - 5ms/step - loss: 113.6513\n",
      "Epoch 18/100\n",
      "13/13 - 0s - 5ms/step - loss: 112.3869\n",
      "Epoch 19/100\n",
      "13/13 - 0s - 5ms/step - loss: 110.4594\n",
      "Epoch 20/100\n",
      "13/13 - 0s - 5ms/step - loss: 108.3411\n",
      "Epoch 21/100\n",
      "13/13 - 0s - 5ms/step - loss: 106.8536\n",
      "Epoch 22/100\n",
      "13/13 - 0s - 5ms/step - loss: 104.7876\n",
      "Epoch 23/100\n",
      "13/13 - 0s - 7ms/step - loss: 103.4862\n",
      "Epoch 24/100\n",
      "13/13 - 0s - 7ms/step - loss: 101.4009\n",
      "Epoch 25/100\n",
      "13/13 - 0s - 12ms/step - loss: 99.9778\n",
      "Epoch 26/100\n",
      "13/13 - 0s - 13ms/step - loss: 98.1108\n",
      "Epoch 27/100\n",
      "13/13 - 0s - 7ms/step - loss: 97.3381\n",
      "Epoch 28/100\n",
      "13/13 - 0s - 8ms/step - loss: 94.7116\n",
      "Epoch 29/100\n",
      "13/13 - 0s - 8ms/step - loss: 94.3251\n",
      "Epoch 30/100\n",
      "13/13 - 0s - 7ms/step - loss: 91.9059\n",
      "Epoch 31/100\n",
      "13/13 - 0s - 7ms/step - loss: 89.6802\n",
      "Epoch 32/100\n",
      "13/13 - 0s - 7ms/step - loss: 89.1360\n",
      "Epoch 33/100\n",
      "13/13 - 0s - 7ms/step - loss: 86.5325\n",
      "Epoch 34/100\n",
      "13/13 - 0s - 6ms/step - loss: 84.9466\n",
      "Epoch 35/100\n",
      "13/13 - 0s - 7ms/step - loss: 82.9992\n",
      "Epoch 36/100\n",
      "13/13 - 0s - 5ms/step - loss: 81.1828\n",
      "Epoch 37/100\n",
      "13/13 - 0s - 5ms/step - loss: 79.8155\n",
      "Epoch 38/100\n",
      "13/13 - 0s - 5ms/step - loss: 78.5488\n",
      "Epoch 39/100\n",
      "13/13 - 0s - 5ms/step - loss: 76.9282\n",
      "Epoch 40/100\n",
      "13/13 - 0s - 5ms/step - loss: 75.2420\n",
      "Epoch 41/100\n",
      "13/13 - 0s - 5ms/step - loss: 74.0631\n",
      "Epoch 42/100\n",
      "13/13 - 0s - 5ms/step - loss: 72.1292\n",
      "Epoch 43/100\n",
      "13/13 - 0s - 4ms/step - loss: 70.7333\n",
      "Epoch 44/100\n",
      "13/13 - 0s - 5ms/step - loss: 69.4207\n",
      "Epoch 45/100\n",
      "13/13 - 0s - 5ms/step - loss: 68.0536\n",
      "Epoch 46/100\n",
      "13/13 - 0s - 5ms/step - loss: 66.7708\n",
      "Epoch 47/100\n",
      "13/13 - 0s - 6ms/step - loss: 65.5380\n",
      "Epoch 48/100\n",
      "13/13 - 0s - 5ms/step - loss: 64.6426\n",
      "Epoch 49/100\n",
      "13/13 - 0s - 7ms/step - loss: 63.8799\n",
      "Epoch 50/100\n",
      "13/13 - 0s - 5ms/step - loss: 61.6678\n",
      "Epoch 51/100\n",
      "13/13 - 0s - 5ms/step - loss: 60.5456\n",
      "Epoch 52/100\n",
      "13/13 - 0s - 4ms/step - loss: 59.6108\n",
      "Epoch 53/100\n",
      "13/13 - 0s - 4ms/step - loss: 58.2305\n",
      "Epoch 54/100\n",
      "13/13 - 0s - 5ms/step - loss: 57.3039\n",
      "Epoch 55/100\n",
      "13/13 - 0s - 4ms/step - loss: 56.9915\n",
      "Epoch 56/100\n",
      "13/13 - 0s - 4ms/step - loss: 54.9523\n",
      "Epoch 57/100\n",
      "13/13 - 0s - 4ms/step - loss: 54.2111\n",
      "Epoch 58/100\n",
      "13/13 - 0s - 4ms/step - loss: 52.9835\n",
      "Epoch 59/100\n",
      "13/13 - 0s - 5ms/step - loss: 52.1398\n",
      "Epoch 60/100\n",
      "13/13 - 0s - 4ms/step - loss: 51.4862\n",
      "Epoch 61/100\n",
      "13/13 - 0s - 4ms/step - loss: 50.5133\n",
      "Epoch 62/100\n",
      "13/13 - 0s - 5ms/step - loss: 50.0724\n",
      "Epoch 63/100\n",
      "13/13 - 0s - 5ms/step - loss: 48.4405\n",
      "Epoch 64/100\n",
      "13/13 - 0s - 5ms/step - loss: 47.8042\n",
      "Epoch 65/100\n",
      "13/13 - 0s - 4ms/step - loss: 47.0517\n",
      "Epoch 66/100\n",
      "13/13 - 0s - 4ms/step - loss: 46.4042\n",
      "Epoch 67/100\n",
      "13/13 - 0s - 4ms/step - loss: 45.5887\n",
      "Epoch 68/100\n",
      "13/13 - 0s - 4ms/step - loss: 45.0874\n",
      "Epoch 69/100\n",
      "13/13 - 0s - 4ms/step - loss: 44.2803\n",
      "Epoch 70/100\n",
      "13/13 - 0s - 4ms/step - loss: 43.8611\n",
      "Epoch 71/100\n",
      "13/13 - 0s - 4ms/step - loss: 42.9051\n",
      "Epoch 72/100\n",
      "13/13 - 0s - 4ms/step - loss: 42.2941\n",
      "Epoch 73/100\n",
      "13/13 - 0s - 4ms/step - loss: 41.8888\n",
      "Epoch 74/100\n",
      "13/13 - 0s - 4ms/step - loss: 41.0564\n",
      "Epoch 75/100\n",
      "13/13 - 0s - 3ms/step - loss: 40.5475\n",
      "Epoch 76/100\n",
      "13/13 - 0s - 5ms/step - loss: 39.8920\n",
      "Epoch 77/100\n",
      "13/13 - 0s - 5ms/step - loss: 39.5152\n",
      "Epoch 78/100\n",
      "13/13 - 0s - 4ms/step - loss: 38.9222\n",
      "Epoch 79/100\n",
      "13/13 - 0s - 5ms/step - loss: 38.4778\n",
      "Epoch 80/100\n",
      "13/13 - 0s - 4ms/step - loss: 38.0354\n",
      "Epoch 81/100\n",
      "13/13 - 0s - 3ms/step - loss: 37.6858\n",
      "Epoch 82/100\n",
      "13/13 - 0s - 3ms/step - loss: 37.6132\n",
      "Epoch 83/100\n",
      "13/13 - 0s - 3ms/step - loss: 37.2286\n",
      "Epoch 84/100\n",
      "13/13 - 0s - 4ms/step - loss: 37.2287\n",
      "Epoch 85/100\n",
      "13/13 - 0s - 4ms/step - loss: 36.5914\n",
      "Epoch 86/100\n",
      "13/13 - 0s - 3ms/step - loss: 35.6968\n",
      "Epoch 87/100\n",
      "13/13 - 0s - 3ms/step - loss: 35.9322\n",
      "Epoch 88/100\n",
      "13/13 - 0s - 3ms/step - loss: 35.3378\n",
      "Epoch 89/100\n",
      "13/13 - 0s - 3ms/step - loss: 34.5039\n",
      "Epoch 90/100\n",
      "13/13 - 0s - 4ms/step - loss: 34.2170\n",
      "Epoch 91/100\n",
      "13/13 - 0s - 3ms/step - loss: 34.1999\n",
      "Epoch 92/100\n",
      "13/13 - 0s - 3ms/step - loss: 33.4882\n",
      "Epoch 93/100\n",
      "13/13 - 0s - 4ms/step - loss: 33.6643\n",
      "Epoch 94/100\n",
      "13/13 - 0s - 4ms/step - loss: 33.7888\n",
      "Epoch 95/100\n",
      "13/13 - 0s - 4ms/step - loss: 32.9744\n",
      "Epoch 96/100\n",
      "13/13 - 0s - 4ms/step - loss: 32.6110\n",
      "Epoch 97/100\n",
      "13/13 - 0s - 3ms/step - loss: 33.2407\n",
      "Epoch 98/100\n",
      "13/13 - 0s - 4ms/step - loss: 32.6284\n",
      "Epoch 99/100\n",
      "13/13 - 0s - 3ms/step - loss: 32.1070\n",
      "Epoch 100/100\n",
      "13/13 - 0s - 6ms/step - loss: 31.5680\n"
     ]
    },
    {
     "data": {
      "text/plain": [
       "<keras.src.callbacks.history.History at 0x269932fee90>"
      ]
     },
     "execution_count": 27,
     "metadata": {},
     "output_type": "execute_result"
    }
   ],
   "source": [
    "# Build the neural network\n",
    "model = models.Sequential()\n",
    "model.add(Dense(25, input_dim=x.shape[1], activation='relu')) # Hidden 1\n",
    "model.add(Dense(10, activation='relu')) # Hidden 2\n",
    "model.add(Dense(1)) # Output\n",
    "model.compile(loss='mean_squared_error', optimizer='adam')\n",
    "model.fit(x,y,verbose=2,epochs=100)"
   ]
  },
  {
   "cell_type": "code",
   "execution_count": 28,
   "metadata": {},
   "outputs": [
    {
     "name": "stdout",
     "output_type": "stream",
     "text": [
      "\u001b[1m13/13\u001b[0m \u001b[32m━━━━━━━━━━━━━━━━━━━━\u001b[0m\u001b[37m\u001b[0m \u001b[1m0s\u001b[0m 3ms/step \n",
      "Shape: (398, 1)\n",
      "[[14.981424]\n",
      " [17.412912]\n",
      " [17.904417]\n",
      " [19.245497]\n",
      " [17.420288]\n",
      " [15.30382 ]\n",
      " [17.175282]\n",
      " [17.564108]\n",
      " [17.963602]\n",
      " [18.158525]]\n"
     ]
    }
   ],
   "source": [
    "pred = model.predict(x)\n",
    "print(f\"Shape: {pred.shape}\")\n",
    "print(pred[0:10])"
   ]
  },
  {
   "cell_type": "code",
   "execution_count": 29,
   "metadata": {},
   "outputs": [
    {
     "name": "stdout",
     "output_type": "stream",
     "text": [
      "Final score (RMSE): 5.652627105214372\n"
     ]
    }
   ],
   "source": [
    "# Measure RMSE error.  RMSE is common for regression.\n",
    "score = np.sqrt(metrics.mean_squared_error(pred,y))\n",
    "print(f\"Final score (RMSE): {score}\")"
   ]
  },
  {
   "cell_type": "code",
   "execution_count": 32,
   "metadata": {},
   "outputs": [
    {
     "name": "stdout",
     "output_type": "stream",
     "text": [
      "1. Car name: chevrolet chevelle malibu, MPG: 18.0, predicted MPG: [14.981424]\n",
      "2. Car name: buick skylark 320, MPG: 15.0, predicted MPG: [17.412912]\n",
      "3. Car name: plymouth satellite, MPG: 18.0, predicted MPG: [17.904417]\n",
      "4. Car name: amc rebel sst, MPG: 16.0, predicted MPG: [19.245497]\n",
      "5. Car name: ford torino, MPG: 17.0, predicted MPG: [17.420288]\n",
      "6. Car name: ford galaxie 500, MPG: 15.0, predicted MPG: [15.30382]\n",
      "7. Car name: chevrolet impala, MPG: 14.0, predicted MPG: [17.175282]\n",
      "8. Car name: plymouth fury iii, MPG: 14.0, predicted MPG: [17.564108]\n",
      "9. Car name: pontiac catalina, MPG: 14.0, predicted MPG: [17.963602]\n",
      "10. Car name: amc ambassador dpl, MPG: 15.0, predicted MPG: [18.158525]\n"
     ]
    }
   ],
   "source": [
    "# Sample predictions\n",
    "for i in range(10):\n",
    "    print(f\"{i+1}. Car name: {cars[i]}, MPG: {y[i]}, \" \n",
    "          + f\"predicted MPG: {pred[i]}\")"
   ]
  }
 ],
 "metadata": {
  "kernelspec": {
   "display_name": "base",
   "language": "python",
   "name": "python3"
  },
  "language_info": {
   "codemirror_mode": {
    "name": "ipython",
    "version": 3
   },
   "file_extension": ".py",
   "mimetype": "text/x-python",
   "name": "python",
   "nbconvert_exporter": "python",
   "pygments_lexer": "ipython3",
   "version": "3.11.5"
  }
 },
 "nbformat": 4,
 "nbformat_minor": 2
}
